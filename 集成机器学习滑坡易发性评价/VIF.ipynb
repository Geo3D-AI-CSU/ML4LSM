{
 "cells": [
  {
   "cell_type": "code",
   "execution_count": 1,
   "metadata": {},
   "outputs": [],
   "source": [
    "import pandas as pd;\n",
    "import numpy as np;\n",
    "from math import log;\n",
    "\n",
    "#导入数据\n",
    "\n",
    "df = pd.read_excel(r'C:\\Users\\zs\\Desktop\\111111.xls')\n",
    "df = df.fillna(0)\n",
    "columns = ['ID','ndvi','altitude','aspect','slop','profile','plan','TWI','soiltype','landuse','rain','sloplength','roughness','distancetoroad','distancetoriver','distancetofault','lithology','huapo']\n",
    "df.columns=columns\n"
   ]
  },
  {
   "cell_type": "code",
   "execution_count": 2,
   "metadata": {},
   "outputs": [
    {
     "name": "stdout",
     "output_type": "stream",
     "text": [
      "           var_name       vif\n",
      "0              ndvi  1.288286\n",
      "1          altitude  2.348453\n",
      "2            aspect  1.019011\n",
      "3              slop  4.639289\n",
      "4           profile  1.374648\n",
      "5              plan  1.330755\n",
      "6               TWI  2.007694\n",
      "7          soiltype  1.124904\n",
      "8           landuse  1.021134\n",
      "9              rain  1.040833\n",
      "10       sloplength  1.810447\n",
      "11        roughness  2.875092\n",
      "12   distancetoroad  1.138861\n",
      "13  distancetoriver  1.121653\n",
      "14  distancetofault  1.105933\n",
      "15        lithology  1.075877\n"
     ]
    },
    {
     "name": "stderr",
     "output_type": "stream",
     "text": [
      "C:\\Users\\zs\\Anaconda3\\lib\\site-packages\\ipykernel_launcher.py:4: SettingWithCopyWarning: \n",
      "A value is trying to be set on a copy of a slice from a DataFrame.\n",
      "Try using .loc[row_indexer,col_indexer] = value instead\n",
      "\n",
      "See the caveats in the documentation: http://pandas.pydata.org/pandas-docs/stable/indexing.html#indexing-view-versus-copy\n",
      "  after removing the cwd from sys.path.\n"
     ]
    }
   ],
   "source": [
    "\n",
    "#def_function\n",
    "def calulate_vif(X):\n",
    "    from statsmodels.stats.outliers_influence import variance_inflation_factor\n",
    "    X[X.shape[1]]=1\n",
    "    #vif\n",
    "    vif=[]\n",
    "    for i in range(X.shape[1]-1):\n",
    "        vif.append(variance_inflation_factor(X.values,i))\n",
    "    #result_out\n",
    "    yy=pd.DataFrame(X.columns[:-1,])\n",
    "    yy.rename(columns={0:\"var_name\"},inplace=True) \n",
    "    yy[\"vif\"]=vif\n",
    "    print(yy)\n",
    "    \n",
    "#call\n",
    "calulate_vif(df[['ndvi','altitude','aspect','slop','profile','plan','TWI','soiltype','landuse','rain','sloplength','roughness','distancetoroad','distancetoriver','distancetofault','lithology']])"
   ]
  }
 ],
 "metadata": {
  "kernelspec": {
   "display_name": "Python 3",
   "language": "python",
   "name": "python3"
  },
  "language_info": {
   "codemirror_mode": {
    "name": "ipython",
    "version": 3
   },
   "file_extension": ".py",
   "mimetype": "text/x-python",
   "name": "python",
   "nbconvert_exporter": "python",
   "pygments_lexer": "ipython3",
   "version": "3.7.3"
  }
 },
 "nbformat": 4,
 "nbformat_minor": 2
}
