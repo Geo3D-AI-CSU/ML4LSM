{
 "cells": [
  {
   "cell_type": "code",
   "execution_count": 1,
   "metadata": {},
   "outputs": [
    {
     "name": "stderr",
     "output_type": "stream",
     "text": [
      "C:\\Users\\zs\\Anaconda3\\lib\\site-packages\\pandas\\compat\\_optional.py:138: UserWarning: Pandas requires version '2.7.0' or newer of 'numexpr' (version '2.6.9' currently installed).\n",
      "  warnings.warn(msg, UserWarning)\n"
     ]
    },
    {
     "name": "stdout",
     "output_type": "stream",
     "text": [
      "共合并2个CSV文件\n"
     ]
    }
   ],
   "source": [
    "import pandas as pd\n",
    "import os \n",
    "\n",
    "Folder_Path= 'E:/huan/ml/data/hebingdata'# 获取源目标文件夹\n",
    "SaveFile_Path='E:/huan/ml/data'  # 拼接后要保存的文件路径  \n",
    "SaveFile_Name='01all.csv'    #合并后要保存的文件名字\n",
    "\n",
    "os.chdir(Folder_Path)\n",
    "file_list = os.listdir()\n",
    "\n",
    "#  遍历读取文件夹中的每一个文件\n",
    "fileStart = 1\n",
    "fileEnd = len(file_list)\n",
    "for i in range(fileStart,fileEnd):\n",
    "    df = pd.read_csv(Folder_Path + '/' + file_list[i], \n",
    "               encoding = \"utf8\")\n",
    "    df.to_csv (SaveFile_Path + '/' + SaveFile_Name,\n",
    "               encoding = \"utf8\",\n",
    "               index = False,\n",
    "               header = True,#如果对每个文件的标题另外有需求，需要对header变量进行指定\n",
    "               mode = 'a')\n",
    "    print('共合并%i个CSV文件'% len(file_list)) "
   ]
  }
 ],
 "metadata": {
  "kernelspec": {
   "display_name": "Python 3",
   "language": "python",
   "name": "python3"
  },
  "language_info": {
   "codemirror_mode": {
    "name": "ipython",
    "version": 3
   },
   "file_extension": ".py",
   "mimetype": "text/x-python",
   "name": "python",
   "nbconvert_exporter": "python",
   "pygments_lexer": "ipython3",
   "version": "3.7.3"
  }
 },
 "nbformat": 4,
 "nbformat_minor": 2
}
