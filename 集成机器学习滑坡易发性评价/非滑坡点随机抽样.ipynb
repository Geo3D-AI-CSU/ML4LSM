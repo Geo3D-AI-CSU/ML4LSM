{
 "cells": [
  {
   "cell_type": "code",
   "execution_count": 2,
   "metadata": {},
   "outputs": [],
   "source": [
    "import random\n",
    "from random import randint\n",
    " \n",
    "oldf=open('E:/huan/ml/data/new/0.csv','r',encoding='UTF-8')\n",
    "newf=open('E:/huan/ml/data/new/new01.csv','w',encoding='UTF-8')\n",
    "n = 0\n",
    "# sample(x,y)函数的作用是从序列x中，随机选择y个不重复的元素\n",
    "resultList = random.sample(range(0,1139358),54448)\n",
    "\n",
    "lines=oldf.readlines()\n",
    "for i in resultList:\n",
    "    newf.write(lines[i])\n",
    "    \n",
    "oldf.close()\n",
    "newf.close()"
   ]
  },
  {
   "cell_type": "code",
   "execution_count": null,
   "metadata": {},
   "outputs": [],
   "source": []
  }
 ],
 "metadata": {
  "kernelspec": {
   "display_name": "Python 3",
   "language": "python",
   "name": "python3"
  },
  "language_info": {
   "codemirror_mode": {
    "name": "ipython",
    "version": 3
   },
   "file_extension": ".py",
   "mimetype": "text/x-python",
   "name": "python",
   "nbconvert_exporter": "python",
   "pygments_lexer": "ipython3",
   "version": "3.7.3"
  }
 },
 "nbformat": 4,
 "nbformat_minor": 2
}
